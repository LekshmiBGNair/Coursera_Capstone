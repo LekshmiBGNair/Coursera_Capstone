{
    "cells": [
        {
            "metadata": {
                "collapsed": true
            },
            "cell_type": "markdown",
            "source": "## Business Proposal: Predicting the most favourable city for living in New York"
        },
        {
            "metadata": {},
            "cell_type": "markdown",
            "source": "## Introduction:"
        },
        {
            "metadata": {},
            "cell_type": "markdown",
            "source": "The main purpose of this Project is to predict cities in New York where most people find favourable for exploring better facilities. It will help people making smart and efficient decision on selecting best places for living in New York.\n\nLots of people are migrating to various states of America and needed lots of research for good housing prices and reputated schools for their children. This project is for those people who are looking for better neighborhoods. For ease of accessing to Cafe, School, Super market, medical shops, grocery shops, mall, theatre, hospital, like minded people, etc.\n\nThis Project aim to create an analysis of features for a people migrating to New York to search a best neighborhood as a comparative analysis between neighborhoods. The features include median housing price and better school according to ratings, crime rates of that particular area, road connectivity, weather conditions, good management for emergency, water resources both freash and waste water and excrement conveyed in sewers and recreational facilities.\n\nIt will help people to get awareness of the area and neighborhood before moving to a new city, state, country or place for their work or to start a new fresh life."
        },
        {
            "metadata": {},
            "cell_type": "markdown",
            "source": "## Objectives:"
        },
        {
            "metadata": {},
            "cell_type": "markdown",
            "source": "The objectives of this project are :\n\n    Sorted list of house in terms of housing prices in a ascending order\n    Sorted list of schools in terms of location, fees and rating\n    "
        },
        {
            "metadata": {},
            "cell_type": "markdown",
            "source": "## Methodology:"
        },
        {
            "metadata": {},
            "cell_type": "markdown",
            "source": "Many people migrating to the New York searches for places with better facilities.\nThis report provide an overview to them to find their favourable city based on the housing price and school rating which are found to be the most relevant for a family with children. Foursquare API is used to collect relevant informations for each nearby cities on New York.\nTo compare the similarities of two cities, we decided to explore neighborhoods, segment them, and group them into clusters to find similar neighborhoods in the big city like New York. To be able to do that, k-means clustering algorithm is mainly used in this report"
        },
        {
            "metadata": {},
            "cell_type": "markdown",
            "source": "## Tools"
        },
        {
            "metadata": {},
            "cell_type": "markdown",
            "source": "The tools mainly here points to the libraries which are helpful for such a study. The main libraries included here are :\n\nPandas: For creating and manipulating dataframes.\n\nFolium: Python visualization library would be used to visualize the neighborhoods cluster distribution of using interactive leaflet map.\n\nScikit Learn: For importing k-means clustering.\n\nJSON: Library to handle JSON files.\n\nXML: To separate data from presentation and XML stores data in plain text format.\n\nGeocoder: To retrieve Location Data.\n\nBeautiful Soup and Requests: To scrap and library to handle http requests.\n\nMatplotlib: Python Plotting Module."
        },
        {
            "metadata": {},
            "cell_type": "code",
            "source": "",
            "execution_count": null,
            "outputs": []
        }
    ],
    "metadata": {
        "kernelspec": {
            "name": "python3",
            "display_name": "Python 3.6",
            "language": "python"
        },
        "language_info": {
            "name": "python",
            "version": "3.6.9",
            "mimetype": "text/x-python",
            "codemirror_mode": {
                "name": "ipython",
                "version": 3
            },
            "pygments_lexer": "ipython3",
            "nbconvert_exporter": "python",
            "file_extension": ".py"
        }
    },
    "nbformat": 4,
    "nbformat_minor": 1
}